{
  "cells": [
    {
      "cell_type": "code",
      "execution_count": 4,
      "metadata": {
        "id": "IZz49Of_UjkB"
      },
      "outputs": [],
      "source": [
        "import numpy as np\n",
        "import pandas as pd\n",
        "from copy import deepcopy\n",
        "#from google.colab import drive\n",
        "\n",
        "from scipy.spatial.distance import cosine\n",
        "from scipy.spatial.distance import jaccard"
      ]
    },
    {
      "cell_type": "code",
      "execution_count": 5,
      "metadata": {
        "colab": {
          "base_uri": "https://localhost:8080/"
        },
        "id": "ko_GgwP0az26",
        "outputId": "437dd235-04c5-4171-e9f5-e985c41df8d7"
      },
      "outputs": [],
      "source": [
        "#drive.mount('/content/drive')"
      ]
    },
    {
      "cell_type": "markdown",
      "metadata": {
        "id": "jfHr8dgtbIYJ"
      },
      "source": [
        "# Read the dataset"
      ]
    },
    {
      "cell_type": "code",
      "execution_count": 23,
      "metadata": {
        "id": "VJRLm61jbGR-"
      },
      "outputs": [],
      "source": [
        "data = pd.read_csv(\"kmeans_data\\data.csv\", header=None)\n",
        "label = pd.read_csv(\"kmeans_data\\label.csv\", header=None)\n",
        "\n",
        "# convert into np array\n",
        "data = data.values\n",
        "label = label.values"
      ]
    },
    {
      "cell_type": "markdown",
      "metadata": {
        "id": "wZIxiTvJkwmm"
      },
      "source": [
        "# Fix a seed"
      ]
    },
    {
      "cell_type": "code",
      "execution_count": 24,
      "metadata": {
        "id": "UNZjoUk6krml"
      },
      "outputs": [],
      "source": [
        "seed_value = 7"
      ]
    },
    {
      "cell_type": "markdown",
      "metadata": {
        "id": "2mse74j9k0fw"
      },
      "source": [
        "# Helper functions"
      ]
    },
    {
      "cell_type": "code",
      "execution_count": 8,
      "metadata": {
        "id": "YxovrX00uahD"
      },
      "outputs": [],
      "source": [
        "def distance(metric_name, point_a, point_b):\n",
        "  if metric_name == \"euclidean\":\n",
        "    return euclidean_distance(point_a, point_b)\n",
        "  elif metric_name == \"cosine\":\n",
        "    return cosine_distance(point_a, point_b)\n",
        "  elif metric_name == \"jaccard\":\n",
        "    return jaccard_distance(point_a, point_b)\n",
        "\n",
        "  return point_a - point_b\n",
        "\n",
        "def euclidean_distance(point_a, point_b):\n",
        "  return np.linalg.norm(point_a - point_b)\n",
        "\n",
        "def cosine_distance(point_a, point_b):\n",
        "  return cosine(point_a, point_b)\n",
        "\n",
        "def jaccard_distance(point_a, point_b):\n",
        "  return jaccard(point_a, point_b)"
      ]
    },
    {
      "cell_type": "markdown",
      "metadata": {
        "id": "sICxz9zrk4Jh"
      },
      "source": [
        "# Implementation of Kmeans"
      ]
    },
    {
      "cell_type": "code",
      "execution_count": 25,
      "metadata": {
        "id": "crMNXtXngiiq"
      },
      "outputs": [],
      "source": [
        "def k_means(k, distance_metrics_name, stopping_criteria, max_iteration=200, threshold=0.1):\n",
        "  # select k data points randomly as the centroids\n",
        "  np.random.seed(seed_value)\n",
        "\n",
        "  random_indices = np.random.choice(data.shape[0], k, replace=False)\n",
        "  centroids = data[random_indices]\n",
        "\n",
        "  iteration = 0\n",
        "  temporary_clusters = [-1] * len(data)\n",
        "  distances_from_centroid = [np.inf] * len(data)\n",
        "\n",
        "  sse = np.inf\n",
        "\n",
        "  while True:\n",
        "    iteration += 1\n",
        "\n",
        "    # for all the data points find out the nearest centroid\n",
        "    for i in range(len(data)):\n",
        "      distances_from_centroid[i] = np.inf\n",
        "\n",
        "      for j in range(k):\n",
        "        d = distance(distance_metrics_name, centroids[j], data[i])\n",
        "        if d < distances_from_centroid[i]:\n",
        "          distances_from_centroid[i] = d\n",
        "          temporary_clusters[i] = j\n",
        "\n",
        "    current_sse = sum(distances_from_centroid)\n",
        "\n",
        "    # find out new centroids\n",
        "    new_centroids = []\n",
        "\n",
        "    for i in range(k):\n",
        "      # the data points that belongs to the ith centroid\n",
        "      matching_indices = [j for j, value in enumerate(temporary_clusters) if value == i]\n",
        "\n",
        "      subset_of_data = data[matching_indices]\n",
        "      mean = np.mean(subset_of_data, axis=0)\n",
        "\n",
        "      new_centroids.append(mean)\n",
        "\n",
        "    # stopping criteria\n",
        "    if stopping_criteria == \"max_iteration\" and iteration >= max_iteration:\n",
        "      break\n",
        "    elif stopping_criteria == \"sse_increase\" and sse < current_sse:\n",
        "      break\n",
        "    else:\n",
        "      # check whether the centroids changed\n",
        "      flag = True\n",
        "      for i in range(k):\n",
        "          diff = np.abs(centroids[i] - new_centroids[i])\n",
        "          if np.any(diff) > threshold:\n",
        "              flag = False\n",
        "\n",
        "      if flag:\n",
        "          break\n",
        "\n",
        "    sse = current_sse\n",
        "    centroids = deepcopy(new_centroids)\n",
        "\n",
        "    # worst case scenario\n",
        "    if iteration > 700:\n",
        "      break\n",
        "\n",
        "  print(\"Total iteration required:\", iteration)\n",
        "  print(\"SSE:\", sse)\n",
        "\n",
        "  # Accuracy\n",
        "  clusters = [{} for i in range(k)]\n",
        "  for i in range(len(data)):\n",
        "    if temporary_clusters[i] != -1:\n",
        "      actual_label = label[i][0]\n",
        "\n",
        "      if actual_label not in clusters[temporary_clusters[i]]:\n",
        "        clusters[temporary_clusters[i]][actual_label] = 0\n",
        "\n",
        "      clusters[temporary_clusters[i]][actual_label] += 1\n",
        "\n",
        "  accuracies = 0\n",
        "  for i in range(k):\n",
        "    try:\n",
        "      mx = max(clusters[i].values())\n",
        "      sm = sum(clusters[i].values())\n",
        "\n",
        "      accuracies += mx / sm\n",
        "    except:\n",
        "      accuracies += 0\n",
        "\n",
        "  print(\"Accuracy:\", accuracies / k * 100)"
      ]
    },
    {
      "cell_type": "code",
      "execution_count": 26,
      "metadata": {
        "id": "AZ74x4CtmW9Z"
      },
      "outputs": [
        {
          "name": "stdout",
          "output_type": "stream",
          "text": [
            "Number of clusters: 10\n"
          ]
        }
      ],
      "source": [
        "unique_elements, counts = np.unique(label, return_counts=True)\n",
        "number_of_clusters = len(unique_elements)\n",
        "print(\"Number of clusters:\", number_of_clusters)"
      ]
    },
    {
      "cell_type": "markdown",
      "metadata": {
        "id": "avYgxxw0kViB"
      },
      "source": [
        "## Distance metric: Euclidean"
      ]
    },
    {
      "cell_type": "code",
      "execution_count": 27,
      "metadata": {
        "colab": {
          "base_uri": "https://localhost:8080/"
        },
        "id": "qPKuwSRM28oW",
        "outputId": "e62ec29e-ac53-4375-98a0-2af27f515830"
      },
      "outputs": [
        {
          "name": "stdout",
          "output_type": "stream",
          "text": [
            "Distance metric: Euclidean. Stopping criteria: unchanged centroid\n",
            "Total iteration required: 51\n",
            "SSE: 15664678.69503718\n",
            "Accuracy: 62.926861884213366\n",
            "\n",
            "Distance metric: Euclidean. Stopping criteria: increased SSE\n",
            "Total iteration required: 51\n",
            "SSE: 15664678.69503718\n",
            "Accuracy: 62.926861884213366\n",
            "\n",
            "Distance metric: Euclidean. Stopping criteria: max iteration of 150\n",
            "Total iteration required: 51\n",
            "SSE: 15664678.69503718\n",
            "Accuracy: 62.926861884213366\n",
            "\n"
          ]
        }
      ],
      "source": [
        "print(\"Distance metric: Euclidean. Stopping criteria: unchanged centroid\")\n",
        "k_means(number_of_clusters, \"euclidean\", stopping_criteria=\"centroid_change\")\n",
        "print()\n",
        "\n",
        "print(\"Distance metric: Euclidean. Stopping criteria: increased SSE\")\n",
        "k_means(number_of_clusters, \"euclidean\", stopping_criteria=\"sse_increase\")\n",
        "print()\n",
        "\n",
        "print(\"Distance metric: Euclidean. Stopping criteria: max iteration of 150\")\n",
        "k_means(number_of_clusters, \"euclidean\", stopping_criteria=\"max_iteration\", max_iteration=150)\n",
        "print()"
      ]
    },
    {
      "cell_type": "markdown",
      "metadata": {
        "id": "48hhBCy479nC"
      },
      "source": [
        "## Distance metric: Cosine"
      ]
    },
    {
      "cell_type": "code",
      "execution_count": 12,
      "metadata": {
        "colab": {
          "base_uri": "https://localhost:8080/"
        },
        "id": "re-SsLZk22ZV",
        "outputId": "a8049171-31ab-4039-fe9d-86b502a73a28"
      },
      "outputs": [
        {
          "name": "stdout",
          "output_type": "stream",
          "text": [
            "Distance metric: Cosine. Stopping criteria: unchanged centroid\n",
            "Total iteration required: 112\n",
            "SSE: 2466.808536926088\n",
            "Accuracy: 66.46915110377626\n",
            "\n",
            "Distance metric: Cosine. Stopping criteria: increased SSE\n",
            "Total iteration required: 110\n",
            "SSE: 2466.803476088712\n",
            "Accuracy: 66.4759390798922\n",
            "\n",
            "Distance metric: Cosine. Stopping criteria: max iteration of 150\n",
            "Total iteration required: 112\n",
            "SSE: 2466.808536926088\n",
            "Accuracy: 66.46915110377626\n",
            "\n"
          ]
        }
      ],
      "source": [
        "print(\"Distance metric: Cosine. Stopping criteria: unchanged centroid\")\n",
        "k_means(number_of_clusters, \"cosine\", stopping_criteria=\"centroid_change\")\n",
        "print()\n",
        "\n",
        "print(\"Distance metric: Cosine. Stopping criteria: increased SSE\")\n",
        "k_means(number_of_clusters, \"cosine\", stopping_criteria=\"sse_increase\")\n",
        "print()\n",
        "\n",
        "print(\"Distance metric: Cosine. Stopping criteria: max iteration of 150\")\n",
        "k_means(number_of_clusters, \"cosine\", stopping_criteria=\"max_iteration\", max_iteration=500)\n",
        "print()"
      ]
    },
    {
      "cell_type": "code",
      "execution_count": 13,
      "metadata": {
        "colab": {
          "base_uri": "https://localhost:8080/"
        },
        "id": "dareWwwk26-N",
        "outputId": "ada4724f-abc5-4625-8f37-e4af1cfb89bf"
      },
      "outputs": [
        {
          "name": "stdout",
          "output_type": "stream",
          "text": [
            "Distance metric: Jaccard. Stopping criteria: unchanged centroid\n"
          ]
        },
        {
          "name": "stderr",
          "output_type": "stream",
          "text": [
            "C:\\Users\\ASUS\\AppData\\Roaming\\Python\\Python39\\site-packages\\numpy\\core\\fromnumeric.py:3464: RuntimeWarning: Mean of empty slice.\n",
            "  return _methods._mean(a, axis=axis, dtype=dtype,\n",
            "C:\\Users\\ASUS\\AppData\\Roaming\\Python\\Python39\\site-packages\\numpy\\core\\_methods.py:184: RuntimeWarning: invalid value encountered in divide\n",
            "  ret = um.true_divide(\n"
          ]
        },
        {
          "name": "stdout",
          "output_type": "stream",
          "text": [
            "Total iteration required: 701\n",
            "SSE: 10000.0\n",
            "Accuracy: 1.135\n",
            "\n",
            "Distance metric: Jaccard. Stopping criteria: increased SSE\n",
            "Total iteration required: 2\n",
            "SSE: 9489.942228051723\n",
            "Accuracy: 9.309989946043\n",
            "\n",
            "Distance metric: Jaccard. Stopping criteria: max iteration of 150\n",
            "Total iteration required: 150\n",
            "SSE: 10000.0\n",
            "Accuracy: 1.135\n",
            "\n"
          ]
        }
      ],
      "source": [
        "print(\"Distance metric: Jaccard. Stopping criteria: unchanged centroid\")\n",
        "k_means(number_of_clusters, \"jaccard\", stopping_criteria=\"centroid_change\")\n",
        "print()\n",
        "\n",
        "print(\"Distance metric: Jaccard. Stopping criteria: increased SSE\")\n",
        "k_means(number_of_clusters, \"jaccard\", stopping_criteria=\"sse_increase\")\n",
        "print()\n",
        "\n",
        "print(\"Distance metric: Jaccard. Stopping criteria: max iteration of 150\")\n",
        "k_means(number_of_clusters, \"jaccard\", stopping_criteria=\"max_iteration\", max_iteration=500)\n",
        "print()"
      ]
    }
  ],
  "metadata": {
    "colab": {
      "provenance": []
    },
    "kernelspec": {
      "display_name": "Python 3",
      "name": "python3"
    },
    "language_info": {
      "codemirror_mode": {
        "name": "ipython",
        "version": 3
      },
      "file_extension": ".py",
      "mimetype": "text/x-python",
      "name": "python",
      "nbconvert_exporter": "python",
      "pygments_lexer": "ipython3",
      "version": "3.9.6"
    }
  },
  "nbformat": 4,
  "nbformat_minor": 0
}
